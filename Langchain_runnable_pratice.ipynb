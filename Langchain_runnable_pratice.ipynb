{
  "nbformat": 4,
  "nbformat_minor": 0,
  "metadata": {
    "colab": {
      "provenance": [],
      "authorship_tag": "ABX9TyOGN00bPppesuh6WzeRt/jj",
      "include_colab_link": true
    },
    "kernelspec": {
      "name": "python3",
      "display_name": "Python 3"
    },
    "language_info": {
      "name": "python"
    }
  },
  "cells": [
    {
      "cell_type": "markdown",
      "metadata": {
        "id": "view-in-github",
        "colab_type": "text"
      },
      "source": [
        "<a href=\"https://colab.research.google.com/github/MohitPunglia/Langchain_Pratice/blob/master/Langchain_runnable_pratice.ipynb\" target=\"_parent\"><img src=\"https://colab.research.google.com/assets/colab-badge.svg\" alt=\"Open In Colab\"/></a>"
      ]
    },
    {
      "cell_type": "code",
      "execution_count": 12,
      "metadata": {
        "id": "Ooe2IQlbj2P9"
      },
      "outputs": [],
      "source": [
        "from abc import ABC,abstractmethod"
      ]
    },
    {
      "cell_type": "code",
      "source": [
        "class runnable(ABC):\n",
        "\n",
        "  @abstractmethod\n",
        "  def invoke(input_data):\n",
        "    pass"
      ],
      "metadata": {
        "id": "rDpY9_VekO-E"
      },
      "execution_count": 13,
      "outputs": []
    },
    {
      "cell_type": "code",
      "source": [
        "import random\n",
        "\n",
        "class dummyllm(runnable):\n",
        "\n",
        "  def __init__(self):\n",
        "    print('Dummy LLM Created')\n",
        "\n",
        "  def invoke(self,prompt):\n",
        "    dummylist=['Dummy list 1','Dummy list 2','Dummy list 3']\n",
        "    return {'Response': random.choice(dummylist)}\n",
        "\n",
        "  def predict(self,prompt):\n",
        "    dummylist=['Dummy list 1','Dummy list 2','Dummy list 3']\n",
        "\n",
        "    return({'Response':random.choice(dummylist)})\n",
        "\n"
      ],
      "metadata": {
        "id": "va0mNmkIk2_g"
      },
      "execution_count": 14,
      "outputs": []
    },
    {
      "cell_type": "code",
      "source": [
        "class dummyprompttemplate(runnable):\n",
        "\n",
        "  def __init__(self,template,input_variable):\n",
        "    self.template=template\n",
        "    self.input_variable=input_variable\n",
        "\n",
        "  def invoke(self,input_dict):\n",
        "    return self.template.format(**input_dict)\n",
        "\n",
        "  def format(self, input_dict):\n",
        "    return self.template.format(**input_dict)\n",
        "\n"
      ],
      "metadata": {
        "id": "ljFPmVspoe6l"
      },
      "execution_count": 19,
      "outputs": []
    },
    {
      "cell_type": "code",
      "source": [
        "#chain=dummyprompttemplate(template=\"This is template {test}\",\n",
        "#                          input_variable=['test'])\n",
        "#result=chain.format({'test':'AI'})\n",
        "#print(result)"
      ],
      "metadata": {
        "id": "KtS8YgPjopVv"
      },
      "execution_count": 21,
      "outputs": []
    },
    {
      "cell_type": "code",
      "source": [
        "class dummy_stroutputparser(runnable):\n",
        "\n",
        "  def __init__(self):\n",
        "    pass\n",
        "\n",
        "  def invoke(self,input_data):\n",
        "    return input_data['Response']\n",
        "\n",
        ""
      ],
      "metadata": {
        "id": "sJjNeqPtvJmz"
      },
      "execution_count": 22,
      "outputs": []
    },
    {
      "cell_type": "code",
      "source": [],
      "metadata": {
        "id": "y71b4wHUyY0v"
      },
      "execution_count": null,
      "outputs": []
    }
  ]
}