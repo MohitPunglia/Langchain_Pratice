{
  "nbformat": 4,
  "nbformat_minor": 0,
  "metadata": {
    "colab": {
      "provenance": [],
      "authorship_tag": "ABX9TyMIckOyiKoLbTNY686thTTC",
      "include_colab_link": true
    },
    "kernelspec": {
      "name": "python3",
      "display_name": "Python 3"
    },
    "language_info": {
      "name": "python"
    }
  },
  "cells": [
    {
      "cell_type": "markdown",
      "metadata": {
        "id": "view-in-github",
        "colab_type": "text"
      },
      "source": [
        "<a href=\"https://colab.research.google.com/github/MohitPunglia/Langchain_Pratice/blob/master/Langchain_runnable_pratice.ipynb\" target=\"_parent\"><img src=\"https://colab.research.google.com/assets/colab-badge.svg\" alt=\"Open In Colab\"/></a>"
      ]
    },
    {
      "cell_type": "code",
      "execution_count": 12,
      "metadata": {
        "id": "Ooe2IQlbj2P9"
      },
      "outputs": [],
      "source": [
        "from abc import ABC,abstractmethod"
      ]
    },
    {
      "cell_type": "code",
      "source": [
        "class runnable(ABC):\n",
        "\n",
        "  @abstractmethod\n",
        "  def invoke(input_data):\n",
        "    pass"
      ],
      "metadata": {
        "id": "rDpY9_VekO-E"
      },
      "execution_count": 13,
      "outputs": []
    },
    {
      "cell_type": "code",
      "source": [
        "import random\n",
        "\n",
        "class dummyllm(runnable):\n",
        "\n",
        "  def __init__(self):\n",
        "    print('Dummy LLM Created')\n",
        "\n",
        "  def invoke(self,prompt):\n",
        "    dummylist=['Dummy list 1','Dummy list 2','Dummy list 3']\n",
        "    return {'Response': random.choice(dummylist)}\n",
        "\n",
        "  def predict(self,prompt):\n",
        "    dummylist=['Dummy list 1','Dummy list 2','Dummy list 3']\n",
        "\n",
        "    return({'Response':random.choice(dummylist)})\n",
        "\n"
      ],
      "metadata": {
        "id": "va0mNmkIk2_g"
      },
      "execution_count": 14,
      "outputs": []
    },
    {
      "cell_type": "code",
      "source": [
        "class dummyprompttemplate(runnable):\n",
        "\n",
        "  def __init__(self,template,input_variable):\n",
        "    self.template=template\n",
        "    self.input_variable=input_variable\n",
        "\n",
        "  def invoke(self,input_dict):\n",
        "    return self.template.format(**input_dict)\n",
        "\n",
        "  def format(self, input_dict):\n",
        "    return self.template.format(**input_dict)\n",
        "\n"
      ],
      "metadata": {
        "id": "ljFPmVspoe6l"
      },
      "execution_count": 19,
      "outputs": []
    },
    {
      "cell_type": "code",
      "source": [
        "#chain=dummyprompttemplate(template=\"This is template {test}\",\n",
        "#                          input_variable=['test'])\n",
        "#result=chain.format({'test':'AI'})\n",
        "#print(result)"
      ],
      "metadata": {
        "id": "KtS8YgPjopVv"
      },
      "execution_count": 21,
      "outputs": []
    },
    {
      "cell_type": "code",
      "source": [
        "class dummy_stroutputparser(runnable):\n",
        "\n",
        "  def __init__(self):\n",
        "    pass\n",
        "\n",
        "  def invoke(self,input_data):\n",
        "    return input_data['Response']\n",
        "\n",
        ""
      ],
      "metadata": {
        "id": "sJjNeqPtvJmz"
      },
      "execution_count": 22,
      "outputs": []
    },
    {
      "cell_type": "code",
      "source": [
        "class runnable_connector(runnable):\n",
        "\n",
        "  def __init__(self,runnable_list):\n",
        "    self.runnable_list=runnable_list\n",
        "\n",
        "  def invoke(self,input_data):\n",
        "    for runnable in self.runnable_list:\n",
        "      input_data=runnable.invoke(input_data)\n",
        "\n",
        "    return input_data"
      ],
      "metadata": {
        "id": "y71b4wHUyY0v"
      },
      "execution_count": 27,
      "outputs": []
    },
    {
      "cell_type": "code",
      "source": [
        "template=dummyprompttemplate(template=\"This is template {test}\",\n",
        "                          input_variable=['test'])\n",
        "\n"
      ],
      "metadata": {
        "colab": {
          "base_uri": "https://localhost:8080/"
        },
        "id": "0WWVSuGm03zH",
        "outputId": "3426c4b8-3b36-4db4-af1c-4278365b1fd3"
      },
      "execution_count": 28,
      "outputs": [
        {
          "output_type": "stream",
          "name": "stdout",
          "text": [
            "This is template AI\n"
          ]
        }
      ]
    },
    {
      "cell_type": "code",
      "source": [
        "llm=dummyllm()"
      ],
      "metadata": {
        "colab": {
          "base_uri": "https://localhost:8080/"
        },
        "id": "6VJRl0QP1TWn",
        "outputId": "e8566e1e-e25c-4bf4-ed5a-7d26c49e104b"
      },
      "execution_count": 29,
      "outputs": [
        {
          "output_type": "stream",
          "name": "stdout",
          "text": [
            "Dummy LLM Created\n"
          ]
        }
      ]
    },
    {
      "cell_type": "code",
      "source": [
        "parser=dummy_stroutputparser()"
      ],
      "metadata": {
        "id": "fpIy55Lg1eHZ"
      },
      "execution_count": 30,
      "outputs": []
    },
    {
      "cell_type": "code",
      "source": [
        "chain=runnable_connector([template,llm,parser])"
      ],
      "metadata": {
        "id": "HWn8GAHL1l4A"
      },
      "execution_count": 31,
      "outputs": []
    },
    {
      "cell_type": "code",
      "source": [
        "chain.invoke({'test':'AI'})"
      ],
      "metadata": {
        "colab": {
          "base_uri": "https://localhost:8080/",
          "height": 35
        },
        "id": "2hY_cx-g19o1",
        "outputId": "2cc9df97-da41-45b2-a11a-734f9a13be14"
      },
      "execution_count": 32,
      "outputs": [
        {
          "output_type": "execute_result",
          "data": {
            "text/plain": [
              "'Dummy list 2'"
            ],
            "application/vnd.google.colaboratory.intrinsic+json": {
              "type": "string"
            }
          },
          "metadata": {},
          "execution_count": 32
        }
      ]
    }
  ]
}