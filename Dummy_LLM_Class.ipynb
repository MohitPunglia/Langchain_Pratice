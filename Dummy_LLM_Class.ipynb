{
  "nbformat": 4,
  "nbformat_minor": 0,
  "metadata": {
    "colab": {
      "provenance": [],
      "authorship_tag": "ABX9TyP32pp3CYJArHwHAKgohvY/",
      "include_colab_link": true
    },
    "kernelspec": {
      "name": "python3",
      "display_name": "Python 3"
    },
    "language_info": {
      "name": "python"
    }
  },
  "cells": [
    {
      "cell_type": "markdown",
      "metadata": {
        "id": "view-in-github",
        "colab_type": "text"
      },
      "source": [
        "<a href=\"https://colab.research.google.com/github/MohitPunglia/Langchain_Pratice/blob/master/Dummy_LLM_Class.ipynb\" target=\"_parent\"><img src=\"https://colab.research.google.com/assets/colab-badge.svg\" alt=\"Open In Colab\"/></a>"
      ]
    },
    {
      "cell_type": "code",
      "execution_count": null,
      "metadata": {
        "id": "4p7UlCHm7MD8"
      },
      "outputs": [],
      "source": [
        "import random\n",
        "\n",
        "class dummyllm:\n",
        "\n",
        "  def __init__(self):\n",
        "    print('Dummy LLM Created')\n",
        "\n",
        "  def predict(self,prompt):\n",
        "    dummylist=['Dummy list 1','Dummy list 2','Dummy list 3']\n",
        "\n",
        "    return({'Response':random.choice(dummylist)})\n",
        "\n"
      ]
    },
    {
      "cell_type": "code",
      "source": [
        "class dummyprompttemplate:\n",
        "\n",
        "  def __init__(self,template,input_variable):\n",
        "    self.template=template\n",
        "    self.input_variable=input_variable\n",
        "\n",
        "  def format(self, input_dict):\n",
        "    return self.template.format(**input_dict)\n",
        "\n"
      ],
      "metadata": {
        "id": "c3X7I10wApHJ"
      },
      "execution_count": null,
      "outputs": []
    },
    {
      "cell_type": "code",
      "source": [
        "template=dummyprompttemplate(\n",
        "    template='Write a {length} about the {topic} provided',\n",
        "    input_variable=['length','topic']\n",
        "    )"
      ],
      "metadata": {
        "id": "I78Ajl_uB2oo"
      },
      "execution_count": null,
      "outputs": []
    },
    {
      "cell_type": "code",
      "source": [
        "prompt=template.format({'length':'Medium','topic':'Jokes'})"
      ],
      "metadata": {
        "id": "72_V8zv2Cucc"
      },
      "execution_count": null,
      "outputs": []
    },
    {
      "cell_type": "code",
      "source": [
        "llm=dummyllm()"
      ],
      "metadata": {
        "colab": {
          "base_uri": "https://localhost:8080/"
        },
        "id": "W6NKw8hrDGil",
        "outputId": "54331761-bf45-4ec4-88e5-657a9719aa21"
      },
      "execution_count": null,
      "outputs": [
        {
          "output_type": "stream",
          "name": "stdout",
          "text": [
            "Dummy LLM Created\n"
          ]
        }
      ]
    },
    {
      "cell_type": "code",
      "source": [
        "llm.predict(prompt)"
      ],
      "metadata": {
        "colab": {
          "base_uri": "https://localhost:8080/"
        },
        "id": "VXXweat1Igt7",
        "outputId": "13b031ae-078e-4a2f-f1e0-3c3a4d60ec7b"
      },
      "execution_count": null,
      "outputs": [
        {
          "output_type": "execute_result",
          "data": {
            "text/plain": [
              "{'Response': 'Dummy list 2'}"
            ]
          },
          "metadata": {},
          "execution_count": 50
        }
      ]
    },
    {
      "cell_type": "code",
      "source": [
        "class dummyLLMchain:\n",
        "  def __init__(self,llm,prompt):\n",
        "    self.llm=llm\n",
        "    self.prompt=prompt\n",
        "\n",
        "  def run(self,input_dict):\n",
        "    final=self.prompt.format(input_dict)\n",
        "    result=self.llm.predict(final)\n",
        "\n",
        "    return result['Response']\n"
      ],
      "metadata": {
        "id": "KeKpG0pHWJ1Y"
      },
      "execution_count": null,
      "outputs": []
    },
    {
      "cell_type": "code",
      "source": [
        "template=dummyprompttemplate(\n",
        "    template='Write a {length} about the {topic} provided',\n",
        "    input_variable=['length','topic']\n",
        "    )"
      ],
      "metadata": {
        "id": "_NXYOmHoZO8a"
      },
      "execution_count": null,
      "outputs": []
    },
    {
      "cell_type": "code",
      "source": [
        "llm=dummyllm()"
      ],
      "metadata": {
        "colab": {
          "base_uri": "https://localhost:8080/"
        },
        "id": "-4UDs0RnZQjR",
        "outputId": "75ff8d08-6cc6-49ae-a29b-fdb3d076b3bb"
      },
      "execution_count": null,
      "outputs": [
        {
          "output_type": "stream",
          "name": "stdout",
          "text": [
            "Dummy LLM Created\n"
          ]
        }
      ]
    },
    {
      "cell_type": "code",
      "source": [
        "chain=dummyLLMchain(llm,template)\n",
        "chain.run({'length':'Medium','topic':'jokes'})"
      ],
      "metadata": {
        "colab": {
          "base_uri": "https://localhost:8080/",
          "height": 35
        },
        "id": "G-VZgnP6ZW0U",
        "outputId": "9d1a838b-8bfc-4806-d332-bba686f9c919"
      },
      "execution_count": null,
      "outputs": [
        {
          "output_type": "execute_result",
          "data": {
            "text/plain": [
              "'Dummy list 2'"
            ],
            "application/vnd.google.colaboratory.intrinsic+json": {
              "type": "string"
            }
          },
          "metadata": {},
          "execution_count": 58
        }
      ]
    }
  ]
}